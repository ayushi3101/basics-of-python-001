{
 "cells": [
  {
   "cell_type": "code",
   "execution_count": 37,
   "id": "2ada4b2c-7034-4373-b9b8-75edf8963760",
   "metadata": {},
   "outputs": [
    {
     "name": "stdout",
     "output_type": "stream",
     "text": [
      "Hello World\n"
     ]
    }
   ],
   "source": [
    "print(\"Hello World\"):"
   ]
  },
  {
   "cell_type": "code",
   "execution_count": 38,
   "id": "8dfe4bc7-fd8f-49f4-a8a8-d03edd041d69",
   "metadata": {},
   "outputs": [],
   "source": [
    "a = 3\n",
    "b = 5\n",
    "c = 7\n",
    "d = 3"
   ]
  },
  {
   "cell_type": "code",
   "execution_count": 39,
   "id": "0a02b5cf-31b7-48be-a6b7-25fdc19e1f35",
   "metadata": {},
   "outputs": [
    {
     "name": "stdout",
     "output_type": "stream",
     "text": [
      "True\n"
     ]
    }
   ],
   "source": [
    "print(a < b)"
   ]
  },
  {
   "cell_type": "code",
   "execution_count": 40,
   "id": "5987df52-1366-4d7f-b6b6-610b94d6faf8",
   "metadata": {},
   "outputs": [
    {
     "name": "stdout",
     "output_type": "stream",
     "text": [
      "False\n"
     ]
    }
   ],
   "source": [
    "print(a > b)"
   ]
  },
  {
   "cell_type": "code",
   "execution_count": 41,
   "id": "668e8857-73cf-4e13-9deb-b40cff69a9b9",
   "metadata": {},
   "outputs": [
    {
     "name": "stdout",
     "output_type": "stream",
     "text": [
      "True\n"
     ]
    }
   ],
   "source": [
    "print(a <= b)"
   ]
  },
  {
   "cell_type": "code",
   "execution_count": 42,
   "id": "3456aab4-25c2-483c-92e9-33939d75a539",
   "metadata": {},
   "outputs": [
    {
     "name": "stdout",
     "output_type": "stream",
     "text": [
      "True\n"
     ]
    }
   ],
   "source": [
    "print(b >= a)"
   ]
  },
  {
   "cell_type": "code",
   "execution_count": 43,
   "id": "4c6212fe-e742-428d-9923-3049150da631",
   "metadata": {},
   "outputs": [
    {
     "name": "stdout",
     "output_type": "stream",
     "text": [
      "True\n"
     ]
    }
   ],
   "source": [
    "print(c >= d)"
   ]
  },
  {
   "cell_type": "code",
   "execution_count": 44,
   "id": "20c09aa6-9d48-4dfb-bdc5-c184a954c3e5",
   "metadata": {},
   "outputs": [],
   "source": [
    "#and, or operator\n",
    "a = (3 < 5)\n",
    "b = (5 > 7)\n",
    "c = (2 < 9)\n",
    "d = (30 < 2)"
   ]
  },
  {
   "cell_type": "code",
   "execution_count": 45,
   "id": "a636d4cc-bab0-4dfc-8b0c-f813540995c8",
   "metadata": {},
   "outputs": [
    {
     "name": "stdout",
     "output_type": "stream",
     "text": [
      "False\n"
     ]
    }
   ],
   "source": [
    "print(a and b)\n"
   ]
  },
  {
   "cell_type": "code",
   "execution_count": 46,
   "id": "32778652-f0cb-41da-847b-39c2be273a8a",
   "metadata": {},
   "outputs": [
    {
     "name": "stdout",
     "output_type": "stream",
     "text": [
      "True\n"
     ]
    }
   ],
   "source": [
    "print( a or b)"
   ]
  },
  {
   "cell_type": "code",
   "execution_count": 47,
   "id": "bf299724-565b-4197-8e6c-f7a5da3d7b25",
   "metadata": {},
   "outputs": [
    {
     "name": "stdout",
     "output_type": "stream",
     "text": [
      "True\n"
     ]
    }
   ],
   "source": [
    "print(a and c)"
   ]
  },
  {
   "cell_type": "code",
   "execution_count": 48,
   "id": "44d51434-279a-445b-9db5-031fd254d1bb",
   "metadata": {},
   "outputs": [
    {
     "name": "stdout",
     "output_type": "stream",
     "text": [
      "False\n"
     ]
    }
   ],
   "source": [
    "print( d or b)"
   ]
  },
  {
   "cell_type": "code",
   "execution_count": 49,
   "id": "6c2a5cd3-1f85-4806-867c-4cb6f6132e4c",
   "metadata": {},
   "outputs": [],
   "source": [
    "# identity operator\n",
    "a = 3\n",
    "b = 2"
   ]
  },
  {
   "cell_type": "code",
   "execution_count": 50,
   "id": "69780ebc-e305-46c8-af49-f1b8146de86f",
   "metadata": {},
   "outputs": [
    {
     "name": "stdout",
     "output_type": "stream",
     "text": [
      "False\n"
     ]
    }
   ],
   "source": [
    "print(a == b)"
   ]
  },
  {
   "cell_type": "code",
   "execution_count": 51,
   "id": "c4a34833-789d-42fd-8421-1e35980d09a0",
   "metadata": {},
   "outputs": [],
   "source": [
    "li1 = [1,2,3,4,5]\n",
    "li2 = [1,3,5,7,9]\n",
    "li3 = [1,2,3,4,5]\n",
    "\n",
    "a = 2\n",
    "b = 3\n",
    "c = 2"
   ]
  },
  {
   "cell_type": "code",
   "execution_count": 52,
   "id": "f729685b-12ea-43a8-bbad-92155d7e5fcd",
   "metadata": {},
   "outputs": [
    {
     "name": "stdout",
     "output_type": "stream",
     "text": [
      "False\n"
     ]
    }
   ],
   "source": [
    "print(a == b)"
   ]
  },
  {
   "cell_type": "code",
   "execution_count": 53,
   "id": "a8e255d7-5c6c-44b0-9ad6-30a0b5f38369",
   "metadata": {},
   "outputs": [
    {
     "name": "stdout",
     "output_type": "stream",
     "text": [
      "True\n"
     ]
    }
   ],
   "source": [
    "print (a == c)"
   ]
  },
  {
   "cell_type": "code",
   "execution_count": 54,
   "id": "6c22a0e9-acf8-4993-b1f0-a5d73f892a3a",
   "metadata": {},
   "outputs": [
    {
     "name": "stdout",
     "output_type": "stream",
     "text": [
      "False\n"
     ]
    }
   ],
   "source": [
    "print(li1 == li2)"
   ]
  },
  {
   "cell_type": "code",
   "execution_count": 55,
   "id": "cc2060f4-a447-4579-9339-9b54c254dd86",
   "metadata": {},
   "outputs": [
    {
     "name": "stdout",
     "output_type": "stream",
     "text": [
      "True\n"
     ]
    }
   ],
   "source": [
    "print(li1 == li3)"
   ]
  },
  {
   "cell_type": "code",
   "execution_count": 57,
   "id": "e53eb1d5-c3fb-40ac-9f1e-a7db2fb77fdb",
   "metadata": {},
   "outputs": [
    {
     "data": {
      "text/plain": [
       "False"
      ]
     },
     "execution_count": 57,
     "metadata": {},
     "output_type": "execute_result"
    }
   ],
   "source": [
    "a is b"
   ]
  },
  {
   "cell_type": "code",
   "execution_count": 58,
   "id": "b5486545-4f91-411a-8bbe-947e3bb09c15",
   "metadata": {},
   "outputs": [
    {
     "data": {
      "text/plain": [
       "True"
      ]
     },
     "execution_count": 58,
     "metadata": {},
     "output_type": "execute_result"
    }
   ],
   "source": [
    "a is c"
   ]
  },
  {
   "cell_type": "code",
   "execution_count": 59,
   "id": "c593d8fc-c1a7-42ce-9210-ee2c1abfc8bb",
   "metadata": {},
   "outputs": [
    {
     "data": {
      "text/plain": [
       "False"
      ]
     },
     "execution_count": 59,
     "metadata": {},
     "output_type": "execute_result"
    }
   ],
   "source": [
    "li1 is li2"
   ]
  },
  {
   "cell_type": "code",
   "execution_count": 60,
   "id": "bc7eadfc-be3d-4f74-90e5-322dd1902db7",
   "metadata": {},
   "outputs": [
    {
     "data": {
      "text/plain": [
       "False"
      ]
     },
     "execution_count": 60,
     "metadata": {},
     "output_type": "execute_result"
    }
   ],
   "source": [
    "li1 is li3"
   ]
  },
  {
   "cell_type": "code",
   "execution_count": 61,
   "id": "9fc49a5e-5481-40d7-a7b8-7bc44ee08e6c",
   "metadata": {},
   "outputs": [
    {
     "data": {
      "text/plain": [
       "True"
      ]
     },
     "execution_count": 61,
     "metadata": {},
     "output_type": "execute_result"
    }
   ],
   "source": [
    "li1 is not li3"
   ]
  },
  {
   "cell_type": "code",
   "execution_count": 62,
   "id": "fd76be10-d964-4886-bbcf-7c75c79ae429",
   "metadata": {},
   "outputs": [
    {
     "data": {
      "text/plain": [
       "[1, 2, 3, 4, 5]"
      ]
     },
     "execution_count": 62,
     "metadata": {},
     "output_type": "execute_result"
    }
   ],
   "source": [
    "li1"
   ]
  },
  {
   "cell_type": "code",
   "execution_count": 63,
   "id": "35d62d31-f50a-4006-9c9b-6483846309d0",
   "metadata": {},
   "outputs": [
    {
     "name": "stdout",
     "output_type": "stream",
     "text": [
      "True\n"
     ]
    }
   ],
   "source": [
    "print(2 in li1)"
   ]
  },
  {
   "cell_type": "code",
   "execution_count": 64,
   "id": "12745dd5-df05-4f12-aa48-89900e1fa53d",
   "metadata": {},
   "outputs": [
    {
     "name": "stdout",
     "output_type": "stream",
     "text": [
      "False\n"
     ]
    }
   ],
   "source": [
    "print(10 in li1)"
   ]
  },
  {
   "cell_type": "code",
   "execution_count": 65,
   "id": "04e6f251-d93a-4b6e-8840-abc8ac2ef24e",
   "metadata": {},
   "outputs": [],
   "source": [
    "str = \"Ayushi\""
   ]
  },
  {
   "cell_type": "code",
   "execution_count": 66,
   "id": "ddf9decb-d512-474f-9891-d398d3d2feb6",
   "metadata": {},
   "outputs": [
    {
     "name": "stdout",
     "output_type": "stream",
     "text": [
      "True\n"
     ]
    }
   ],
   "source": [
    "print (\"A\" in str)"
   ]
  },
  {
   "cell_type": "code",
   "execution_count": 67,
   "id": "95996884-41ea-4263-a021-7bef0f0b8a0f",
   "metadata": {},
   "outputs": [
    {
     "name": "stdout",
     "output_type": "stream",
     "text": [
      "True\n"
     ]
    }
   ],
   "source": [
    "print(\"Ay\" in str)"
   ]
  },
  {
   "cell_type": "code",
   "execution_count": null,
   "id": "41a497aa-4e78-4bd0-b267-d903411e2a97",
   "metadata": {},
   "outputs": [],
   "source": []
  },
  {
   "cell_type": "code",
   "execution_count": 68,
   "id": "5a143b69-c32c-4ddb-b737-b6ea50321ade",
   "metadata": {},
   "outputs": [],
   "source": [
    "# Python conditionals , if and else"
   ]
  },
  {
   "cell_type": "code",
   "execution_count": 69,
   "id": "7e494697-c13e-4d3b-ba25-087352efa8ae",
   "metadata": {},
   "outputs": [
    {
     "name": "stdout",
     "output_type": "stream",
     "text": [
      "value of a is  3\n"
     ]
    }
   ],
   "source": [
    "a = 3\n",
    "\n",
    "if a == b: \n",
    "    print(\"value of a is \" , 3)"
   ]
  },
  {
   "cell_type": "code",
   "execution_count": 71,
   "id": "5ed178b1-2659-4741-b628-f635d1cbdca6",
   "metadata": {},
   "outputs": [],
   "source": [
    "a = 4\n",
    "if a == 3:\n",
    "    print(\"value of a is\" , 3)"
   ]
  },
  {
   "cell_type": "code",
   "execution_count": 72,
   "id": "a9c7ce20-7e92-4479-a414-96672bb2536a",
   "metadata": {},
   "outputs": [
    {
     "name": "stdout",
     "output_type": "stream",
     "text": [
      "value is not 3\n"
     ]
    }
   ],
   "source": [
    "a = 5\n",
    "if a == 3:\n",
    "    print(\"value is\" , 3)\n",
    "else:\n",
    "    print(\"value is not 3\")"
   ]
  },
  {
   "cell_type": "code",
   "execution_count": 73,
   "id": "b8f8f83f-559b-4270-9001-0e5b25191174",
   "metadata": {},
   "outputs": [],
   "source": [
    "# write a program that takes the marks of a student and see whether the marks is above 90 or not. If marks is above 90 then print the message \n",
    "# saying \"you are among the toppers\" and if not print \"you are not among the toppers\""
   ]
  },
  {
   "cell_type": "code",
   "execution_count": 76,
   "id": "16ef24e7-355c-497a-817d-89472c4b0833",
   "metadata": {},
   "outputs": [
    {
     "name": "stdout",
     "output_type": "stream",
     "text": [
      " enter the marks\n"
     ]
    },
    {
     "name": "stdin",
     "output_type": "stream",
     "text": [
      " 89\n"
     ]
    },
    {
     "name": "stdout",
     "output_type": "stream",
     "text": [
      "you are not among the toppers\n"
     ]
    }
   ],
   "source": [
    "print(\" enter the marks\")\n",
    "marks = int(input())\n",
    "\n",
    "if marks >= 90:\n",
    "    print(\"you are among the toppers\")\n",
    "else:\n",
    "    print(\"you are not among the toppers\")"
   ]
  },
  {
   "cell_type": "code",
   "execution_count": 76,
   "id": "46b35645-0222-4c5d-9ffa-59a1633dd2a8",
   "metadata": {},
   "outputs": [
    {
     "name": "stdout",
     "output_type": "stream",
     "text": [
      " enter the marks\n"
     ]
    },
    {
     "name": "stdin",
     "output_type": "stream",
     "text": [
      " 89\n"
     ]
    },
    {
     "name": "stdout",
     "output_type": "stream",
     "text": [
      "you are not among the toppers\n"
     ]
    }
   ],
   "source": [
    "print(\" enter the marks\")\n",
    "marks = int(input())\n",
    "\n",
    "if marks >= 90:\n",
    "    print(\"you are among the toppers\")\n",
    "else:\n",
    "    print(\"you are not among the toppers\")"
   ]
  },
  {
   "cell_type": "code",
   "execution_count": 77,
   "id": "5f8a3923-0bcd-4bab-955b-c9539211c2b3",
   "metadata": {},
   "outputs": [],
   "source": [
    "#Problem : \n",
    "# take three positive integers as 'the sides of triangle', find out whether the triangle exists or not,\n",
    "# and also classify them as equilateral, isoceles, scalene."
   ]
  },
  {
   "cell_type": "code",
   "execution_count": 80,
   "id": "88f2f43d-f132-4cb1-82bc-a16015457150",
   "metadata": {},
   "outputs": [
    {
     "name": "stdout",
     "output_type": "stream",
     "text": [
      "enter the length of side 1\n"
     ]
    },
    {
     "name": "stdin",
     "output_type": "stream",
     "text": [
      " 2\n"
     ]
    },
    {
     "name": "stdout",
     "output_type": "stream",
     "text": [
      "enter the length of side 2\n"
     ]
    },
    {
     "name": "stdin",
     "output_type": "stream",
     "text": [
      " 3\n"
     ]
    },
    {
     "name": "stdout",
     "output_type": "stream",
     "text": [
      "enter the length of side 3\n"
     ]
    },
    {
     "name": "stdin",
     "output_type": "stream",
     "text": [
      " 7\n"
     ]
    },
    {
     "name": "stdout",
     "output_type": "stream",
     "text": [
      "triangle cannot be formed with these sides\n"
     ]
    }
   ],
   "source": [
    "print(\"enter the length of side 1\")\n",
    "a = int(input())\n",
    "\n",
    "print(\"enter the length of side 2\")\n",
    "b = int(input())\n",
    "\n",
    "print(\"enter the length of side 3\")\n",
    "c = int(input())\n",
    "\n",
    "if (a + b > c) and (b + c > a) and (c + a > b):\n",
    "    print(\"triangle can be formed by these sides\")\n",
    "else:\n",
    "\n",
    "    print(\"triangle cannot be formed with these sides\")"
   ]
  },
  {
   "cell_type": "code",
   "execution_count": 84,
   "id": "72634d89-c452-45e2-8886-88568460c25b",
   "metadata": {},
   "outputs": [
    {
     "name": "stdout",
     "output_type": "stream",
     "text": [
      "enter the length of side 1\n"
     ]
    },
    {
     "name": "stdin",
     "output_type": "stream",
     "text": [
      " 3\n"
     ]
    },
    {
     "name": "stdout",
     "output_type": "stream",
     "text": [
      "enter the length of side 2\n"
     ]
    },
    {
     "name": "stdin",
     "output_type": "stream",
     "text": [
      " 4\n"
     ]
    },
    {
     "name": "stdout",
     "output_type": "stream",
     "text": [
      "enter the length of side 3\n"
     ]
    },
    {
     "name": "stdin",
     "output_type": "stream",
     "text": [
      " 5\n"
     ]
    },
    {
     "name": "stdout",
     "output_type": "stream",
     "text": [
      "triangle can be formed by these sides\n",
      "scalene traingle\n"
     ]
    }
   ],
   "source": [
    "print(\"enter the length of side 1\")\n",
    "a = int(input())\n",
    "\n",
    "print(\"enter the length of side 2\")\n",
    "b = int(input())\n",
    "\n",
    "print(\"enter the length of side 3\")\n",
    "c = int(input())\n",
    "\n",
    "if (a + b > c) and (b + c > a) and (c + a > b):\n",
    "    print(\"triangle can be formed by these sides\")\n",
    "    if a == b and b == c :\n",
    "        print(\"equilateral triangle\")\n",
    "    elif (a == b and b != c) or (b == c and c!= a) or (c == a and a != b):\n",
    "        print(\"Isoceles Traingle\")\n",
    "    else:\n",
    "        print(\"scalene traingle\")\n",
    "    \n",
    "else:\n",
    "    print(\"triangle cannot be formed with these sides\")\n"
   ]
  },
  {
   "cell_type": "code",
   "execution_count": 87,
   "id": "8d27ce17-14bd-4f05-813c-d33ff30ef059",
   "metadata": {},
   "outputs": [
    {
     "name": "stdout",
     "output_type": "stream",
     "text": [
      "enter the length of side 1\n"
     ]
    },
    {
     "name": "stdin",
     "output_type": "stream",
     "text": [
      " 3\n"
     ]
    },
    {
     "name": "stdout",
     "output_type": "stream",
     "text": [
      "enter the length of side 2\n"
     ]
    },
    {
     "name": "stdin",
     "output_type": "stream",
     "text": [
      " 9\n"
     ]
    },
    {
     "name": "stdout",
     "output_type": "stream",
     "text": [
      "enter the length of side 3\n"
     ]
    },
    {
     "name": "stdin",
     "output_type": "stream",
     "text": [
      " 6\n"
     ]
    },
    {
     "name": "stdout",
     "output_type": "stream",
     "text": [
      "triangle cannot be formed with these sides\n"
     ]
    }
   ],
   "source": [
    "print(\"enter the length of side 1\")\n",
    "a = int(input())\n",
    "\n",
    "print(\"enter the length of side 2\")\n",
    "b = int(input())\n",
    "\n",
    "print(\"enter the length of side 3\")\n",
    "c = int(input())\n",
    "\n",
    "if (a + b > c) and (b + c > a) and (c + a > b):\n",
    "    print(\"triangle can be formed by these sides\")\n",
    "    if a == b and b == c :\n",
    "        print(\"equilateral triangle\")\n",
    "    elif a != b and b != c and c != a: \n",
    "         print(\"scalene traingle\")\n",
    "    else:\n",
    "        print(\"isoceles traingle\")\n",
    "    \n",
    "else:\n",
    "    print(\"triangle cannot be formed with these sides\")\n"
   ]
  },
  {
   "cell_type": "code",
   "execution_count": 90,
   "id": "4c78ff25-21e7-4fd2-a2fc-0c5147835542",
   "metadata": {},
   "outputs": [
    {
     "name": "stdout",
     "output_type": "stream",
     "text": [
      "What's up?\n",
      "What's up?\n",
      "What's up?\n",
      "What's up?\n",
      "What's up?\n",
      "What's up?\n",
      "What's up?\n",
      "What's up?\n"
     ]
    }
   ],
   "source": [
    "i = 1\n",
    "while i < 9:\n",
    "    print(\"What's up?\")\n",
    "    i = i + 1\n"
   ]
  },
  {
   "cell_type": "code",
   "execution_count": 91,
   "id": "11292a20-7802-4686-abac-3dfbeb0ad142",
   "metadata": {},
   "outputs": [
    {
     "name": "stdout",
     "output_type": "stream",
     "text": [
      "enter the length of side 1\n"
     ]
    },
    {
     "name": "stdin",
     "output_type": "stream",
     "text": [
      " 3\n"
     ]
    },
    {
     "name": "stdout",
     "output_type": "stream",
     "text": [
      "enter the length of side 2\n"
     ]
    },
    {
     "name": "stdin",
     "output_type": "stream",
     "text": [
      " 4\n"
     ]
    },
    {
     "name": "stdout",
     "output_type": "stream",
     "text": [
      "enter the length of side 3\n"
     ]
    },
    {
     "name": "stdin",
     "output_type": "stream",
     "text": [
      " 5\n"
     ]
    },
    {
     "name": "stdout",
     "output_type": "stream",
     "text": [
      "triangle can be formed by these sides\n",
      "scalene traingle\n",
      "-------------------------------\n",
      " Do you still want to continue to check the program?\n"
     ]
    },
    {
     "name": "stdin",
     "output_type": "stream",
     "text": [
      " yes\n"
     ]
    },
    {
     "name": "stdout",
     "output_type": "stream",
     "text": [
      "enter the length of side 1\n"
     ]
    },
    {
     "name": "stdin",
     "output_type": "stream",
     "text": [
      " 2\n"
     ]
    },
    {
     "name": "stdout",
     "output_type": "stream",
     "text": [
      "enter the length of side 2\n"
     ]
    },
    {
     "name": "stdin",
     "output_type": "stream",
     "text": [
      " 7\n"
     ]
    },
    {
     "name": "stdout",
     "output_type": "stream",
     "text": [
      "enter the length of side 3\n"
     ]
    },
    {
     "name": "stdin",
     "output_type": "stream",
     "text": [
      " 9\n"
     ]
    },
    {
     "name": "stdout",
     "output_type": "stream",
     "text": [
      "triangle cannot be formed with these sides\n",
      "-------------------------------\n",
      " Do you still want to continue to check the program?\n"
     ]
    },
    {
     "name": "stdin",
     "output_type": "stream",
     "text": [
      " yes\n"
     ]
    },
    {
     "name": "stdout",
     "output_type": "stream",
     "text": [
      "enter the length of side 1\n"
     ]
    },
    {
     "name": "stdin",
     "output_type": "stream",
     "text": [
      " 3\n"
     ]
    },
    {
     "name": "stdout",
     "output_type": "stream",
     "text": [
      "enter the length of side 2\n"
     ]
    },
    {
     "name": "stdin",
     "output_type": "stream",
     "text": [
      " 3\n"
     ]
    },
    {
     "name": "stdout",
     "output_type": "stream",
     "text": [
      "enter the length of side 3\n"
     ]
    },
    {
     "name": "stdin",
     "output_type": "stream",
     "text": [
      " 6\n"
     ]
    },
    {
     "name": "stdout",
     "output_type": "stream",
     "text": [
      "triangle cannot be formed with these sides\n",
      "-------------------------------\n",
      " Do you still want to continue to check the program?\n"
     ]
    },
    {
     "name": "stdin",
     "output_type": "stream",
     "text": [
      " 3\n"
     ]
    },
    {
     "name": "stdout",
     "output_type": "stream",
     "text": [
      "enter the length of side 1\n"
     ]
    },
    {
     "name": "stdin",
     "output_type": "stream",
     "text": [
      " 3\n"
     ]
    },
    {
     "name": "stdout",
     "output_type": "stream",
     "text": [
      "enter the length of side 2\n"
     ]
    },
    {
     "name": "stdin",
     "output_type": "stream",
     "text": [
      " 4\n"
     ]
    },
    {
     "name": "stdout",
     "output_type": "stream",
     "text": [
      "enter the length of side 3\n"
     ]
    },
    {
     "name": "stdin",
     "output_type": "stream",
     "text": [
      " 3\n"
     ]
    },
    {
     "name": "stdout",
     "output_type": "stream",
     "text": [
      "triangle can be formed by these sides\n",
      "isoceles traingle\n",
      "-------------------------------\n",
      " Do you still want to continue to check the program?\n"
     ]
    },
    {
     "name": "stdin",
     "output_type": "stream",
     "text": [
      " yes\n"
     ]
    },
    {
     "name": "stdout",
     "output_type": "stream",
     "text": [
      "enter the length of side 1\n"
     ]
    },
    {
     "name": "stdin",
     "output_type": "stream",
     "text": [
      " 3\n"
     ]
    },
    {
     "name": "stdout",
     "output_type": "stream",
     "text": [
      "enter the length of side 2\n"
     ]
    },
    {
     "name": "stdin",
     "output_type": "stream",
     "text": [
      " 3\n"
     ]
    },
    {
     "name": "stdout",
     "output_type": "stream",
     "text": [
      "enter the length of side 3\n"
     ]
    },
    {
     "name": "stdin",
     "output_type": "stream",
     "text": [
      " 2\n"
     ]
    },
    {
     "name": "stdout",
     "output_type": "stream",
     "text": [
      "triangle can be formed by these sides\n",
      "isoceles traingle\n",
      "-------------------------------\n",
      " Do you still want to continue to check the program?\n"
     ]
    },
    {
     "name": "stdin",
     "output_type": "stream",
     "text": [
      " No\n"
     ]
    }
   ],
   "source": [
    "while True:\n",
    "    print(\"enter the length of side 1\")\n",
    "    a = int(input())\n",
    "\n",
    "    print(\"enter the length of side 2\")\n",
    "    b = int(input())\n",
    "    \n",
    "    print(\"enter the length of side 3\")\n",
    "    c = int(input())\n",
    "    \n",
    "    if (a + b > c) and (b + c > a) and (c + a > b):\n",
    "        print(\"triangle can be formed by these sides\")\n",
    "        if a == b and b == c :\n",
    "            print(\"equilateral triangle\")\n",
    "        elif a != b and b != c and c != a: \n",
    "             print(\"scalene traingle\")\n",
    "        else:\n",
    "            print(\"isoceles traingle\")\n",
    "        \n",
    "    else:\n",
    "        print(\"triangle cannot be formed with these sides\")\n",
    "\n",
    "    print(\"-------------------------------\")\n",
    "    print(\" Do you still want to continue to check the program?\")\n",
    "    str = input()\n",
    "    if str == \"No\":\n",
    "    \n",
    "          break\n",
    "\n"
   ]
  },
  {
   "cell_type": "code",
   "execution_count": null,
   "id": "49a22ee3-e965-436d-8413-638fa310747f",
   "metadata": {},
   "outputs": [],
   "source": []
  }
 ],
 "metadata": {
  "kernelspec": {
   "display_name": "Python 3 (ipykernel)",
   "language": "python",
   "name": "python3"
  },
  "language_info": {
   "codemirror_mode": {
    "name": "ipython",
    "version": 3
   },
   "file_extension": ".py",
   "mimetype": "text/x-python",
   "name": "python",
   "nbconvert_exporter": "python",
   "pygments_lexer": "ipython3",
   "version": "3.11.0"
  }
 },
 "nbformat": 4,
 "nbformat_minor": 5
}
