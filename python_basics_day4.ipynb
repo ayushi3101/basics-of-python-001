{
  "nbformat": 4,
  "nbformat_minor": 0,
  "metadata": {
    "colab": {
      "provenance": []
    },
    "kernelspec": {
      "name": "python3",
      "display_name": "Python 3"
    },
    "language_info": {
      "name": "python"
    }
  },
  "cells": [
    {
      "cell_type": "code",
      "execution_count": null,
      "metadata": {
        "colab": {
          "base_uri": "https://localhost:8080/"
        },
        "id": "8AilQdKzKMGF",
        "outputId": "e37cdfda-163d-4d8e-d422-c4e5341ac76f"
      },
      "outputs": [
        {
          "output_type": "stream",
          "name": "stdout",
          "text": [
            "hi am Ayushi\n"
          ]
        }
      ],
      "source": [
        "print(\"hi am Ayushi\")"
      ]
    },
    {
      "cell_type": "code",
      "source": [
        "# More on for loop\n",
        "# for loop is use to lietrate a particular list of elements.\n",
        "# Example\n",
        "\n",
        "li = [2,4,6,8,10]\n",
        "\n",
        "for ele in li:\n",
        "  print(ele)"
      ],
      "metadata": {
        "colab": {
          "base_uri": "https://localhost:8080/"
        },
        "id": "DogYwc7_KWnL",
        "outputId": "ee1ad3e8-3289-4b56-f797-6600ef7a81eb"
      },
      "execution_count": null,
      "outputs": [
        {
          "output_type": "stream",
          "name": "stdout",
          "text": [
            "2\n",
            "4\n",
            "6\n",
            "8\n",
            "10\n"
          ]
        }
      ]
    },
    {
      "cell_type": "code",
      "source": [
        "# creating table of 2 using for loop\n",
        "\n",
        "num = 2\n",
        "for i in range(1,11):\n",
        "  print(num * i)"
      ],
      "metadata": {
        "colab": {
          "base_uri": "https://localhost:8080/"
        },
        "id": "4lurlhcgMhLV",
        "outputId": "92c185ee-c6e7-499a-fe55-e161532d832b"
      },
      "execution_count": null,
      "outputs": [
        {
          "output_type": "stream",
          "name": "stdout",
          "text": [
            "2\n",
            "4\n",
            "6\n",
            "8\n",
            "10\n",
            "12\n",
            "14\n",
            "16\n",
            "18\n",
            "20\n"
          ]
        }
      ]
    },
    {
      "cell_type": "code",
      "source": [
        "# create table of a particular number given by user using for loop but don't use multiplication operator\n",
        "print(\"enter the number of create table of: \")\n",
        "\n",
        "num = int(input())\n",
        "table_num = 0\n",
        "\n",
        "print(\"table of \" , num)\n",
        "\n",
        "for i in range(1,11):\n",
        "  table_num = table_num + num\n",
        "  print(table_num)"
      ],
      "metadata": {
        "colab": {
          "base_uri": "https://localhost:8080/"
        },
        "id": "wwh-jj0INALk",
        "outputId": "fd4aa5e0-788d-45bd-d2c2-76f676e4dae9"
      },
      "execution_count": null,
      "outputs": [
        {
          "output_type": "stream",
          "name": "stdout",
          "text": [
            "enter the number of create table of: \n",
            "4\n",
            "table of  4\n",
            "4\n",
            "8\n",
            "12\n",
            "16\n",
            "20\n",
            "24\n",
            "28\n",
            "32\n",
            "36\n",
            "40\n"
          ]
        }
      ]
    },
    {
      "cell_type": "code",
      "source": [
        "# range(start, end, stepsize)\n",
        "print(\"enter the number of create table of:\")\n",
        "\n",
        "num = int(input())\n",
        "table_num = 0\n",
        "\n",
        "print(\"table of \" , num)\n",
        "end = num * 10 + 1\n",
        "for table_num in range(num,end,num):\n",
        "    print(table_num)"
      ],
      "metadata": {
        "colab": {
          "base_uri": "https://localhost:8080/"
        },
        "id": "deHEZxT9QPIi",
        "outputId": "c61a4321-601f-4a8c-caea-f263760b0e03"
      },
      "execution_count": null,
      "outputs": [
        {
          "output_type": "stream",
          "name": "stdout",
          "text": [
            "enter the number of create table of:\n",
            "3\n",
            "table of  3\n",
            "3\n",
            "6\n",
            "9\n",
            "12\n",
            "15\n",
            "18\n",
            "21\n",
            "24\n",
            "27\n",
            "30\n"
          ]
        }
      ]
    },
    {
      "cell_type": "code",
      "source": [
        "N = int(input())\n",
        "ans = 0\n",
        "for i in range(1, N + 1):\n",
        "  if i % 2 == 0:\n",
        "    ans = ans + i\n",
        "\n",
        "print(\"ans is\" , ans)"
      ],
      "metadata": {
        "colab": {
          "base_uri": "https://localhost:8080/"
        },
        "id": "SDWIBBVCVV-7",
        "outputId": "c29eae04-2b7f-4842-94f9-e51961c21233"
      },
      "execution_count": null,
      "outputs": [
        {
          "output_type": "stream",
          "name": "stdout",
          "text": [
            "9\n",
            "ans is 20\n"
          ]
        }
      ]
    },
    {
      "cell_type": "code",
      "source": [
        "for i in range(1,6):\n",
        "    for j in range(1,6):\n",
        "       print(\" * \" , end = \"\")\n",
        "    print()\n"
      ],
      "metadata": {
        "colab": {
          "base_uri": "https://localhost:8080/"
        },
        "id": "KJW-Zg__Wsgo",
        "outputId": "779a3680-cc7a-495e-efd9-8455745c8d10"
      },
      "execution_count": null,
      "outputs": [
        {
          "output_type": "stream",
          "name": "stdout",
          "text": [
            " *  *  *  *  * \n",
            " *  *  *  *  * \n",
            " *  *  *  *  * \n",
            " *  *  *  *  * \n",
            " *  *  *  *  * \n"
          ]
        }
      ]
    },
    {
      "cell_type": "code",
      "source": [
        "for i in range (1,6):\n",
        "  print(\"* * * * *\")\n"
      ],
      "metadata": {
        "colab": {
          "base_uri": "https://localhost:8080/"
        },
        "id": "rs8BAYPPZXQW",
        "outputId": "4e807f4e-6e5d-4f6a-e85b-5ec28258e702"
      },
      "execution_count": null,
      "outputs": [
        {
          "output_type": "stream",
          "name": "stdout",
          "text": [
            "* * * * *\n",
            "* * * * *\n",
            "* * * * *\n",
            "* * * * *\n",
            "* * * * *\n"
          ]
        }
      ]
    },
    {
      "cell_type": "code",
      "source": [
        "N = int(input())\n",
        "for i in range(N):\n",
        "  for j in range(N):\n",
        "    print(N, end = \"\")\n",
        "  print()\n"
      ],
      "metadata": {
        "id": "BCJHLnRMa2mZ",
        "colab": {
          "base_uri": "https://localhost:8080/"
        },
        "outputId": "7312c3a0-c2d5-48bc-bca3-6acec7200513"
      },
      "execution_count": null,
      "outputs": [
        {
          "output_type": "stream",
          "name": "stdout",
          "text": [
            "6\n",
            "666666\n",
            "666666\n",
            "666666\n",
            "666666\n",
            "666666\n",
            "666666\n"
          ]
        }
      ]
    },
    {
      "cell_type": "markdown",
      "source": [],
      "metadata": {
        "id": "wkc1WA9QgfI0"
      }
    },
    {
      "cell_type": "code",
      "source": [
        "#write a python code to print the following pattern.\n",
        "\n",
        "# if N = 4\n",
        "\n",
        "# *\n",
        "# * *\n",
        "# * * *\n",
        "# * * * *\n",
        "N = int(input())\n",
        "\n",
        "# Method 1 stareting from 0\n",
        "for i in range(N):\n",
        "  for j in range(i + 1):\n",
        "    print(\"* \" , end = \"\")\n",
        "  print()\n"
      ],
      "metadata": {
        "colab": {
          "base_uri": "https://localhost:8080/"
        },
        "id": "t6cnvC0_c0yj",
        "outputId": "526af5a9-6d62-4f11-b02b-8da181a94857"
      },
      "execution_count": null,
      "outputs": [
        {
          "output_type": "stream",
          "name": "stdout",
          "text": [
            "5\n",
            "* \n",
            "* * \n",
            "* * * \n",
            "* * * * \n",
            "* * * * * \n"
          ]
        }
      ]
    },
    {
      "cell_type": "code",
      "source": [
        "# Method 2 index starting from 1.\n",
        "\n",
        "N = int(input())\n",
        "for i in range(1, N + 1):\n",
        "  for j in range(1, i + 1):\n",
        "    print(\"* \" , end = \"\")\n",
        "  print()"
      ],
      "metadata": {
        "colab": {
          "base_uri": "https://localhost:8080/"
        },
        "id": "r9fLaqOEiWSD",
        "outputId": "5d62faca-e026-45c5-9cda-3d4ae44044ba"
      },
      "execution_count": null,
      "outputs": [
        {
          "output_type": "stream",
          "name": "stdout",
          "text": [
            "7\n",
            "* \n",
            "* * \n",
            "* * * \n",
            "* * * * \n",
            "* * * * * \n",
            "* * * * * * \n",
            "* * * * * * * \n"
          ]
        }
      ]
    },
    {
      "cell_type": "code",
      "source": [
        "N =int(input())\n",
        "for i in range(1, N +1):\n",
        "  for j in range(1, i + 1):\n",
        "    print(i, end = \" \")\n",
        "\n",
        "  print()"
      ],
      "metadata": {
        "id": "oPrAwBE0kjyB",
        "colab": {
          "base_uri": "https://localhost:8080/"
        },
        "outputId": "560f384c-83e8-48d6-89c5-8546d1f763bb"
      },
      "execution_count": 27,
      "outputs": [
        {
          "output_type": "stream",
          "name": "stdout",
          "text": [
            "5\n",
            "1 \n",
            "2 2 \n",
            "3 3 3 \n",
            "4 4 4 4 \n",
            "5 5 5 5 5 \n"
          ]
        }
      ]
    },
    {
      "cell_type": "code",
      "source": [],
      "metadata": {
        "id": "gTBfiPKBngFp"
      },
      "execution_count": null,
      "outputs": []
    }
  ]
}